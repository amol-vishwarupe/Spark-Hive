{
 "cells": [
  {
   "cell_type": "markdown",
   "metadata": {},
   "source": []
  },
  {
   "cell_type": "code",
   "execution_count": 2,
   "metadata": {},
   "outputs": [
    {
     "data": {
      "text/plain": [
       "['.anaconda',\n",
       " '.android',\n",
       " '.astropy',\n",
       " '.cache',\n",
       " '.canopy_runtimes.json',\n",
       " '.conda',\n",
       " '.condarc',\n",
       " '.config',\n",
       " '.eclipse',\n",
       " '.idea',\n",
       " '.IntelliJIdea2018.3',\n",
       " '.ipynb_checkpoints',\n",
       " '.ipython',\n",
       " '.jupyter',\n",
       " '.m2',\n",
       " '.matplotlib',\n",
       " '.p2',\n",
       " '.spyder-py3',\n",
       " '.tooling',\n",
       " '.VirtualBox',\n",
       " '3D Objects',\n",
       " 'airlines.csv',\n",
       " 'airports.csv',\n",
       " 'AMol-matplotlib.ipynb',\n",
       " 'amolamol.ipynb',\n",
       " 'amol_export',\n",
       " 'amol_export_part.csv',\n",
       " 'amol_export_sql.csv',\n",
       " 'amol_jupyter.ipynb',\n",
       " 'AppData',\n",
       " 'Application Data',\n",
       " 'Canopy',\n",
       " 'Contacts',\n",
       " 'Cookies',\n",
       " 'data',\n",
       " 'derby.log',\n",
       " 'Desktop',\n",
       " 'Documents',\n",
       " 'Downloads',\n",
       " 'drill',\n",
       " 'eclipse',\n",
       " 'Favorites',\n",
       " 'flights.csv',\n",
       " 'flights.csv.zip',\n",
       " 'flight_analysis.ipynb',\n",
       " 'flight_city_wise.csv',\n",
       " 'flight_details_city_wise.csv',\n",
       " 'flight_origin_dest_wise.csv',\n",
       " 'InstallAnywhere',\n",
       " 'IntelGraphicsProfiles',\n",
       " 'Links',\n",
       " 'LISTENER_TESTPYTHON.sql',\n",
       " 'Local Settings',\n",
       " 'logs',\n",
       " 'london_crime_by_lsoa.csv',\n",
       " 'metastore_db',\n",
       " 'Music',\n",
       " 'My Documents',\n",
       " 'NetHood',\n",
       " 'NTUSER.DAT',\n",
       " 'ntuser.dat.LOG1',\n",
       " 'ntuser.dat.LOG2',\n",
       " 'NTUSER.DAT{77a2c7ed-26f0-11e5-80da-e41d2d741090}.TM.blf',\n",
       " 'NTUSER.DAT{77a2c7ed-26f0-11e5-80da-e41d2d741090}.TMContainer00000000000000000001.regtrans-ms',\n",
       " 'NTUSER.DAT{77a2c7ed-26f0-11e5-80da-e41d2d741090}.TMContainer00000000000000000002.regtrans-ms',\n",
       " 'ntuser.ini',\n",
       " 'OneDrive',\n",
       " 'Oracle',\n",
       " 'Pictures',\n",
       " 'PrintHood',\n",
       " 'Recent',\n",
       " 'Saved Games',\n",
       " 'Searches',\n",
       " 'SendTo',\n",
       " 'spark-warehouse',\n",
       " 'Spark_hive_without_hive.ipynb',\n",
       " 'sqlline',\n",
       " 'Start Menu',\n",
       " 'Templates',\n",
       " 'Untitled.ipynb',\n",
       " 'Untitled1.ipynb',\n",
       " 'Untitled10.ipynb',\n",
       " 'Untitled11.ipynb',\n",
       " 'Untitled12.ipynb',\n",
       " 'Untitled2.ipynb',\n",
       " 'Untitled3.ipynb',\n",
       " 'Untitled4.ipynb',\n",
       " 'Untitled5.ipynb',\n",
       " 'Untitled6.ipynb',\n",
       " 'Untitled7.ipynb',\n",
       " 'Untitled8.ipynb',\n",
       " 'Untitled9.ipynb',\n",
       " 'Videos',\n",
       " 'VirtualBox VMs',\n",
       " 'workspace']"
      ]
     },
     "execution_count": 2,
     "metadata": {},
     "output_type": "execute_result"
    }
   ],
   "source": [
    "import os\n",
    "os.listdir(os.getcwd())"
   ]
  },
  {
   "cell_type": "markdown",
   "metadata": {},
   "source": [
    "# This is Example of hive connection without having Hive connection on classpath using Apache SPARK 2.X.\n",
    "\n",
    "\n",
    "## Amol Vishwarupe\n",
    "\n",
    "\n"
   ]
  },
  {
   "cell_type": "code",
   "execution_count": 3,
   "metadata": {},
   "outputs": [],
   "source": [
    "import findspark\n",
    "findspark.init()\n",
    "from pyspark.sql import SparkSession\n",
    "from pyspark.sql.types import Row\n",
    "from datetime import datetime\n",
    "import numpy as np\n",
    "import pandas as pd"
   ]
  },
  {
   "cell_type": "code",
   "execution_count": 4,
   "metadata": {},
   "outputs": [],
   "source": [
    "spark = SparkSession.builder.enableHiveSupport().getOrCreate()"
   ]
  },
  {
   "cell_type": "code",
   "execution_count": 5,
   "metadata": {},
   "outputs": [
    {
     "name": "stdout",
     "output_type": "stream",
     "text": [
      "+------------+\n",
      "|databaseName|\n",
      "+------------+\n",
      "|     default|\n",
      "+------------+\n",
      "\n"
     ]
    }
   ],
   "source": [
    "spark.sql('show databases').show()"
   ]
  },
  {
   "cell_type": "code",
   "execution_count": 8,
   "metadata": {},
   "outputs": [
    {
     "name": "stdout",
     "output_type": "stream",
     "text": [
      "+--------+---------+-----------+\n",
      "|database|tableName|isTemporary|\n",
      "+--------+---------+-----------+\n",
      "+--------+---------+-----------+\n",
      "\n"
     ]
    }
   ],
   "source": [
    "spark.sql('show tables').show()"
   ]
  },
  {
   "cell_type": "code",
   "execution_count": 9,
   "metadata": {},
   "outputs": [
    {
     "data": {
      "text/plain": [
       "252"
      ]
     },
     "execution_count": 9,
     "metadata": {},
     "output_type": "execute_result"
    }
   ],
   "source": [
    "fncs =  spark.sql('show functions').collect()\n",
    "len(fncs)"
   ]
  },
  {
   "cell_type": "code",
   "execution_count": 10,
   "metadata": {},
   "outputs": [
    {
     "data": {
      "text/plain": [
       "DataFrame[]"
      ]
     },
     "execution_count": 10,
     "metadata": {},
     "output_type": "execute_result"
    }
   ],
   "source": [
    "spark.sql(\"create database movies\")"
   ]
  },
  {
   "cell_type": "code",
   "execution_count": 11,
   "metadata": {},
   "outputs": [
    {
     "name": "stdout",
     "output_type": "stream",
     "text": [
      "+------------+\n",
      "|databaseName|\n",
      "+------------+\n",
      "|     default|\n",
      "|      movies|\n",
      "+------------+\n",
      "\n"
     ]
    }
   ],
   "source": [
    "spark.sql(\"show databases\").show()"
   ]
  },
  {
   "cell_type": "code",
   "execution_count": 12,
   "metadata": {},
   "outputs": [
    {
     "name": "stdout",
     "output_type": "stream",
     "text": [
      "+------------+\n",
      "|databaseName|\n",
      "+------------+\n",
      "|     default|\n",
      "|      movies|\n",
      "+------------+\n",
      "\n"
     ]
    }
   ],
   "source": [
    "spark.sql(\"show databases\").show()"
   ]
  },
  {
   "cell_type": "code",
   "execution_count": 13,
   "metadata": {},
   "outputs": [
    {
     "data": {
      "text/plain": [
       "DataFrame[]"
      ]
     },
     "execution_count": 13,
     "metadata": {},
     "output_type": "execute_result"
    }
   ],
   "source": [
    "spark.sql(\"drop database movies\")"
   ]
  },
  {
   "cell_type": "code",
   "execution_count": 14,
   "metadata": {},
   "outputs": [
    {
     "name": "stdout",
     "output_type": "stream",
     "text": [
      "+------------+\n",
      "|databaseName|\n",
      "+------------+\n",
      "|     default|\n",
      "+------------+\n",
      "\n"
     ]
    }
   ],
   "source": [
    "spark.sql(\"show databases\").show()"
   ]
  },
  {
   "cell_type": "code",
   "execution_count": 15,
   "metadata": {},
   "outputs": [
    {
     "data": {
      "text/plain": [
       "DataFrame[]"
      ]
     },
     "execution_count": 15,
     "metadata": {},
     "output_type": "execute_result"
    }
   ],
   "source": [
    "spark.sql(\"create database flight\")"
   ]
  },
  {
   "cell_type": "code",
   "execution_count": 16,
   "metadata": {},
   "outputs": [
    {
     "name": "stdout",
     "output_type": "stream",
     "text": [
      "+------------+\n",
      "|databaseName|\n",
      "+------------+\n",
      "|     default|\n",
      "|      flight|\n",
      "+------------+\n",
      "\n"
     ]
    }
   ],
   "source": [
    "spark.sql(\"show databases\").show()"
   ]
  },
  {
   "cell_type": "code",
   "execution_count": 17,
   "metadata": {},
   "outputs": [
    {
     "data": {
      "text/plain": [
       "DataFrame[]"
      ]
     },
     "execution_count": 17,
     "metadata": {},
     "output_type": "execute_result"
    }
   ],
   "source": [
    "spark.sql(\"use flight\")"
   ]
  },
  {
   "cell_type": "code",
   "execution_count": 19,
   "metadata": {},
   "outputs": [
    {
     "data": {
      "text/plain": [
       "DataFrame[]"
      ]
     },
     "execution_count": 19,
     "metadata": {},
     "output_type": "execute_result"
    }
   ],
   "source": [
    "spark.sql('create table airlines \\\n",
    "         (IATA_CODE string , AIRLINE string) \\\n",
    "         row format delimited fields terminated by \",\" \\\n",
    "         stored as textfile')"
   ]
  },
  {
   "cell_type": "code",
   "execution_count": 20,
   "metadata": {},
   "outputs": [
    {
     "data": {
      "text/plain": [
       "DataFrame[]"
      ]
     },
     "execution_count": 20,
     "metadata": {},
     "output_type": "execute_result"
    }
   ],
   "source": [
    "spark.sql('create table airports \\\n",
    "         (IATA_CODE string ,AIRPORT string ,CITY string ,STATE string ,COUNTRY string ,LATITUDE float ,LONGITUDE float) \\\n",
    "         row format delimited fields terminated by \",\" \\\n",
    "         stored as textfile')"
   ]
  },
  {
   "cell_type": "code",
   "execution_count": 22,
   "metadata": {},
   "outputs": [
    {
     "name": "stdout",
     "output_type": "stream",
     "text": [
      "+--------+---------+-----------+\n",
      "|database|tableName|isTemporary|\n",
      "+--------+---------+-----------+\n",
      "|  flight| airlines|      false|\n",
      "|  flight| airports|      false|\n",
      "+--------+---------+-----------+\n",
      "\n"
     ]
    }
   ],
   "source": [
    "spark.sql(\"show tables\").show()"
   ]
  },
  {
   "cell_type": "markdown",
   "metadata": {},
   "source": [
    "## Lets Load data into Hive tables created above "
   ]
  },
  {
   "cell_type": "code",
   "execution_count": 23,
   "metadata": {},
   "outputs": [
    {
     "data": {
      "text/plain": [
       "DataFrame[]"
      ]
     },
     "execution_count": 23,
     "metadata": {},
     "output_type": "execute_result"
    }
   ],
   "source": [
    "spark.sql(\"load data local inpath 'airlines.csv' \\\n",
    "            overwrite into table airlines\")"
   ]
  },
  {
   "cell_type": "code",
   "execution_count": 25,
   "metadata": {},
   "outputs": [
    {
     "data": {
      "text/plain": [
       "DataFrame[]"
      ]
     },
     "execution_count": 25,
     "metadata": {},
     "output_type": "execute_result"
    }
   ],
   "source": [
    "spark.sql(\"load data local inpath 'airports.csv' \\\n",
    "            overwrite into table airports\")"
   ]
  },
  {
   "cell_type": "code",
   "execution_count": 26,
   "metadata": {},
   "outputs": [
    {
     "name": "stdout",
     "output_type": "stream",
     "text": [
      "+---------+--------------------+\n",
      "|IATA_CODE|             AIRLINE|\n",
      "+---------+--------------------+\n",
      "|IATA_CODE|             AIRLINE|\n",
      "|       UA|United Air Lines ...|\n",
      "|       AA|American Airlines...|\n",
      "|       US|     US Airways Inc.|\n",
      "|       F9|Frontier Airlines...|\n",
      "|       B6|     JetBlue Airways|\n",
      "|       OO|Skywest Airlines ...|\n",
      "|       AS|Alaska Airlines Inc.|\n",
      "|       NK|    Spirit Air Lines|\n",
      "|       WN|Southwest Airline...|\n",
      "+---------+--------------------+\n",
      "\n"
     ]
    }
   ],
   "source": [
    "spark.sql(\"select * from airlines limit 10\").show()"
   ]
  },
  {
   "cell_type": "code",
   "execution_count": 27,
   "metadata": {},
   "outputs": [
    {
     "name": "stdout",
     "output_type": "stream",
     "text": [
      "+---------+--------------------+-------------+-----+-------+--------+----------+\n",
      "|IATA_CODE|             AIRPORT|         CITY|STATE|COUNTRY|LATITUDE| LONGITUDE|\n",
      "+---------+--------------------+-------------+-----+-------+--------+----------+\n",
      "|IATA_CODE|             AIRPORT|         CITY|STATE|COUNTRY|    null|      null|\n",
      "|      ABE|Lehigh Valley Int...|    Allentown|   PA|    USA|40.65236|  -75.4404|\n",
      "|      ABI|Abilene Regional ...|      Abilene|   TX|    USA|32.41132|  -99.6819|\n",
      "|      ABQ|Albuquerque Inter...|  Albuquerque|   NM|    USA|35.04022|-106.60919|\n",
      "|      ABR|Aberdeen Regional...|     Aberdeen|   SD|    USA|45.44906| -98.42183|\n",
      "|      ABY|Southwest Georgia...|       Albany|   GA|    USA|31.53552| -84.19447|\n",
      "|      ACK|Nantucket Memoria...|    Nantucket|   MA|    USA|41.25305| -70.06018|\n",
      "|      ACT|Waco Regional Air...|         Waco|   TX|    USA|31.61129| -97.23052|\n",
      "|      ACV|      Arcata Airport|Arcata/Eureka|   CA|    USA|40.97812|-124.10862|\n",
      "|      ACY|Atlantic City Int...|Atlantic City|   NJ|    USA|39.45758| -74.57717|\n",
      "+---------+--------------------+-------------+-----+-------+--------+----------+\n",
      "\n"
     ]
    }
   ],
   "source": [
    "spark.sql(\"select * from airports limit 10\").show()"
   ]
  },
  {
   "cell_type": "markdown",
   "metadata": {},
   "source": [
    "## Loading Hive table using dataframes \n",
    "# Here we will first load the datafile into spark dataframe by selectinf few columns from file.\n",
    "define the schema of the hive table in advance and then load data using dataframe"
   ]
  },
  {
   "cell_type": "code",
   "execution_count": 30,
   "metadata": {},
   "outputs": [
    {
     "data": {
      "text/plain": [
       "DataFrame[]"
      ]
     },
     "execution_count": 30,
     "metadata": {},
     "output_type": "execute_result"
    }
   ],
   "source": [
    "spark.sql(\"create table flights \\\n",
    "            ( YEAR int , MONTH int , DAY_OF_WEEK int ,AIRLINE string ,ORIGIN_AIRPORT string ,DESTINATION_AIRPORT string) \\\n",
    "              stored as ORC\")"
   ]
  },
  {
   "cell_type": "code",
   "execution_count": 31,
   "metadata": {},
   "outputs": [],
   "source": [
    "flights = spark.read.format(\"CSV\").option(\"header\",\"true\").load(\"flights.csv\")"
   ]
  },
  {
   "cell_type": "code",
   "execution_count": 32,
   "metadata": {},
   "outputs": [
    {
     "name": "stdout",
     "output_type": "stream",
     "text": [
      "+----+-----+---+-----------+-------+-------------+-----------+--------------+-------------------+-------------------+--------------+---------------+--------+----------+--------------+------------+--------+--------+---------+-------+-----------------+------------+-------------+--------+---------+-------------------+----------------+--------------+-------------+-------------------+-------------+\n",
      "|YEAR|MONTH|DAY|DAY_OF_WEEK|AIRLINE|FLIGHT_NUMBER|TAIL_NUMBER|ORIGIN_AIRPORT|DESTINATION_AIRPORT|SCHEDULED_DEPARTURE|DEPARTURE_TIME|DEPARTURE_DELAY|TAXI_OUT|WHEELS_OFF|SCHEDULED_TIME|ELAPSED_TIME|AIR_TIME|DISTANCE|WHEELS_ON|TAXI_IN|SCHEDULED_ARRIVAL|ARRIVAL_TIME|ARRIVAL_DELAY|DIVERTED|CANCELLED|CANCELLATION_REASON|AIR_SYSTEM_DELAY|SECURITY_DELAY|AIRLINE_DELAY|LATE_AIRCRAFT_DELAY|WEATHER_DELAY|\n",
      "+----+-----+---+-----------+-------+-------------+-----------+--------------+-------------------+-------------------+--------------+---------------+--------+----------+--------------+------------+--------+--------+---------+-------+-----------------+------------+-------------+--------+---------+-------------------+----------------+--------------+-------------+-------------------+-------------+\n",
      "|2015|    1|  1|          4|     AS|           98|     N407AS|           ANC|                SEA|               0005|          2354|            -11|      21|      0015|           205|         194|     169|    1448|     0404|      4|             0430|        0408|          -22|       0|        0|               null|            null|          null|         null|               null|         null|\n",
      "|2015|    1|  1|          4|     AA|         2336|     N3KUAA|           LAX|                PBI|               0010|          0002|             -8|      12|      0014|           280|         279|     263|    2330|     0737|      4|             0750|        0741|           -9|       0|        0|               null|            null|          null|         null|               null|         null|\n",
      "|2015|    1|  1|          4|     US|          840|     N171US|           SFO|                CLT|               0020|          0018|             -2|      16|      0034|           286|         293|     266|    2296|     0800|     11|             0806|        0811|            5|       0|        0|               null|            null|          null|         null|               null|         null|\n",
      "|2015|    1|  1|          4|     AA|          258|     N3HYAA|           LAX|                MIA|               0020|          0015|             -5|      15|      0030|           285|         281|     258|    2342|     0748|      8|             0805|        0756|           -9|       0|        0|               null|            null|          null|         null|               null|         null|\n",
      "+----+-----+---+-----------+-------+-------------+-----------+--------------+-------------------+-------------------+--------------+---------------+--------+----------+--------------+------------+--------+--------+---------+-------+-----------------+------------+-------------+--------+---------+-------------------+----------------+--------------+-------------+-------------------+-------------+\n",
      "only showing top 4 rows\n",
      "\n"
     ]
    }
   ],
   "source": [
    "flights.show(4)"
   ]
  },
  {
   "cell_type": "code",
   "execution_count": 33,
   "metadata": {},
   "outputs": [],
   "source": [
    "flightdetails = flights.select(\"YEAR\",\"MONTH\" , \"DAY_OF_WEEK\" , \"AIRLINE\" , \"ORIGIN_AIRPORT\",\"DESTINATION_AIRPORT\" )"
   ]
  },
  {
   "cell_type": "code",
   "execution_count": 34,
   "metadata": {},
   "outputs": [
    {
     "name": "stdout",
     "output_type": "stream",
     "text": [
      "+----+-----+-----------+-------+--------------+-------------------+\n",
      "|YEAR|MONTH|DAY_OF_WEEK|AIRLINE|ORIGIN_AIRPORT|DESTINATION_AIRPORT|\n",
      "+----+-----+-----------+-------+--------------+-------------------+\n",
      "|2015|    1|          4|     AS|           ANC|                SEA|\n",
      "|2015|    1|          4|     AA|           LAX|                PBI|\n",
      "|2015|    1|          4|     US|           SFO|                CLT|\n",
      "|2015|    1|          4|     AA|           LAX|                MIA|\n",
      "|2015|    1|          4|     AS|           SEA|                ANC|\n",
      "|2015|    1|          4|     DL|           SFO|                MSP|\n",
      "|2015|    1|          4|     NK|           LAS|                MSP|\n",
      "|2015|    1|          4|     US|           LAX|                CLT|\n",
      "|2015|    1|          4|     AA|           SFO|                DFW|\n",
      "|2015|    1|          4|     DL|           LAS|                ATL|\n",
      "|2015|    1|          4|     DL|           DEN|                ATL|\n",
      "|2015|    1|          4|     AA|           LAS|                MIA|\n",
      "|2015|    1|          4|     DL|           LAX|                MSP|\n",
      "|2015|    1|          4|     DL|           SLC|                ATL|\n",
      "|2015|    1|          4|     DL|           SEA|                MSP|\n",
      "|2015|    1|          4|     AS|           ANC|                SEA|\n",
      "|2015|    1|          4|     DL|           ANC|                SEA|\n",
      "|2015|    1|          4|     UA|           SFO|                IAH|\n",
      "|2015|    1|          4|     AS|           ANC|                PDX|\n",
      "|2015|    1|          4|     DL|           PDX|                MSP|\n",
      "+----+-----+-----------+-------+--------------+-------------------+\n",
      "only showing top 20 rows\n",
      "\n"
     ]
    }
   ],
   "source": [
    "flightdetails.show()"
   ]
  },
  {
   "cell_type": "code",
   "execution_count": 36,
   "metadata": {},
   "outputs": [],
   "source": [
    "flightdetails.createOrReplaceTempView(\"flt\")"
   ]
  },
  {
   "cell_type": "code",
   "execution_count": 37,
   "metadata": {},
   "outputs": [
    {
     "name": "stdout",
     "output_type": "stream",
     "text": [
      "+----+-----+-----------+-------+--------------+-------------------+\n",
      "|YEAR|MONTH|DAY_OF_WEEK|AIRLINE|ORIGIN_AIRPORT|DESTINATION_AIRPORT|\n",
      "+----+-----+-----------+-------+--------------+-------------------+\n",
      "|2015|    1|          4|     AS|           ANC|                SEA|\n",
      "|2015|    1|          4|     AA|           LAX|                PBI|\n",
      "|2015|    1|          4|     US|           SFO|                CLT|\n",
      "|2015|    1|          4|     AA|           LAX|                MIA|\n",
      "|2015|    1|          4|     AS|           SEA|                ANC|\n",
      "|2015|    1|          4|     DL|           SFO|                MSP|\n",
      "|2015|    1|          4|     NK|           LAS|                MSP|\n",
      "|2015|    1|          4|     US|           LAX|                CLT|\n",
      "|2015|    1|          4|     AA|           SFO|                DFW|\n",
      "|2015|    1|          4|     DL|           LAS|                ATL|\n",
      "|2015|    1|          4|     DL|           DEN|                ATL|\n",
      "|2015|    1|          4|     AA|           LAS|                MIA|\n",
      "|2015|    1|          4|     DL|           LAX|                MSP|\n",
      "|2015|    1|          4|     DL|           SLC|                ATL|\n",
      "|2015|    1|          4|     DL|           SEA|                MSP|\n",
      "|2015|    1|          4|     AS|           ANC|                SEA|\n",
      "|2015|    1|          4|     DL|           ANC|                SEA|\n",
      "|2015|    1|          4|     UA|           SFO|                IAH|\n",
      "|2015|    1|          4|     AS|           ANC|                PDX|\n",
      "|2015|    1|          4|     DL|           PDX|                MSP|\n",
      "+----+-----+-----------+-------+--------------+-------------------+\n",
      "only showing top 20 rows\n",
      "\n"
     ]
    }
   ],
   "source": [
    "spark.sql(\"select * from flt\").show()"
   ]
  },
  {
   "cell_type": "code",
   "execution_count": 38,
   "metadata": {},
   "outputs": [
    {
     "data": {
      "text/plain": [
       "DataFrame[]"
      ]
     },
     "execution_count": 38,
     "metadata": {},
     "output_type": "execute_result"
    }
   ],
   "source": [
    "spark.sql(\"insert into table flights select * from flt\")"
   ]
  },
  {
   "cell_type": "code",
   "execution_count": 39,
   "metadata": {},
   "outputs": [
    {
     "name": "stdout",
     "output_type": "stream",
     "text": [
      "+----+-----+-----------+-------+--------------+-------------------+\n",
      "|YEAR|MONTH|DAY_OF_WEEK|AIRLINE|ORIGIN_AIRPORT|DESTINATION_AIRPORT|\n",
      "+----+-----+-----------+-------+--------------+-------------------+\n",
      "|2015|    1|          4|     AS|           ANC|                SEA|\n",
      "|2015|    1|          4|     AA|           LAX|                PBI|\n",
      "|2015|    1|          4|     US|           SFO|                CLT|\n",
      "|2015|    1|          4|     AA|           LAX|                MIA|\n",
      "|2015|    1|          4|     AS|           SEA|                ANC|\n",
      "|2015|    1|          4|     DL|           SFO|                MSP|\n",
      "|2015|    1|          4|     NK|           LAS|                MSP|\n",
      "|2015|    1|          4|     US|           LAX|                CLT|\n",
      "|2015|    1|          4|     AA|           SFO|                DFW|\n",
      "|2015|    1|          4|     DL|           LAS|                ATL|\n",
      "|2015|    1|          4|     DL|           DEN|                ATL|\n",
      "|2015|    1|          4|     AA|           LAS|                MIA|\n",
      "|2015|    1|          4|     DL|           LAX|                MSP|\n",
      "|2015|    1|          4|     DL|           SLC|                ATL|\n",
      "|2015|    1|          4|     DL|           SEA|                MSP|\n",
      "|2015|    1|          4|     AS|           ANC|                SEA|\n",
      "|2015|    1|          4|     DL|           ANC|                SEA|\n",
      "|2015|    1|          4|     UA|           SFO|                IAH|\n",
      "|2015|    1|          4|     AS|           ANC|                PDX|\n",
      "|2015|    1|          4|     DL|           PDX|                MSP|\n",
      "+----+-----+-----------+-------+--------------+-------------------+\n",
      "only showing top 20 rows\n",
      "\n"
     ]
    }
   ],
   "source": [
    "spark.sql(\"select * from flt\").show()"
   ]
  },
  {
   "cell_type": "code",
   "execution_count": 40,
   "metadata": {},
   "outputs": [
    {
     "name": "stdout",
     "output_type": "stream",
     "text": [
      "+--------+\n",
      "|count(1)|\n",
      "+--------+\n",
      "| 5819079|\n",
      "+--------+\n",
      "\n"
     ]
    }
   ],
   "source": [
    "spark.sql(\"select count(*) from flt\").show()"
   ]
  },
  {
   "cell_type": "code",
   "execution_count": 42,
   "metadata": {},
   "outputs": [
    {
     "name": "stdout",
     "output_type": "stream",
     "text": [
      "+--------+---------+-----------+\n",
      "|database|tableName|isTemporary|\n",
      "+--------+---------+-----------+\n",
      "|  flight| airlines|      false|\n",
      "|  flight| airports|      false|\n",
      "|  flight|  flights|      false|\n",
      "|        |      flt|       true|\n",
      "+--------+---------+-----------+\n",
      "\n"
     ]
    }
   ],
   "source": [
    "spark.sql(\"show tables\").show()"
   ]
  },
  {
   "cell_type": "code",
   "execution_count": null,
   "metadata": {},
   "outputs": [],
   "source": []
  }
 ],
 "metadata": {
  "kernelspec": {
   "display_name": "Python 3",
   "language": "python",
   "name": "python3"
  },
  "language_info": {
   "codemirror_mode": {
    "name": "ipython",
    "version": 3
   },
   "file_extension": ".py",
   "mimetype": "text/x-python",
   "name": "python",
   "nbconvert_exporter": "python",
   "pygments_lexer": "ipython3",
   "version": "3.7.0"
  }
 },
 "nbformat": 4,
 "nbformat_minor": 2
}
